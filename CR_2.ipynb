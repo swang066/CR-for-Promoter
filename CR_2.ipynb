{
  "nbformat": 4,
  "nbformat_minor": 0,
  "metadata": {
    "colab": {
      "name": "CR-2.ipynb",
      "provenance": []
    },
    "kernelspec": {
      "name": "python3",
      "display_name": "Python 3"
    },
    "language_info": {
      "name": "python"
    }
  },
  "cells": [
    {
      "cell_type": "code",
      "metadata": {
        "id": "5C199MavOtpi"
      },
      "source": [
        "%tensorflow_version 1.x\n",
        "\n",
        "import numpy as np\n",
        "import pandas as pd\n",
        "import tensorflow as tf\n",
        "\n",
        "from tensorflow.keras import datasets, layers, models, Model\n",
        "import matplotlib.pyplot as plt\n",
        "\n",
        "from math import *\n",
        "from tensorflow import keras\n",
        "\n",
        "from tensorflow import keras\n",
        "from keras.models import Model, load_model\n",
        "from keras.utils.vis_utils import plot_model\n",
        "from keras.optimizers import Adam, SGD\n",
        "from keras.layers import *\n",
        "from keras.metrics import *\n",
        "from keras.callbacks import Callback, ModelCheckpoint, EarlyStopping\n",
        "from hyperopt import hp, STATUS_OK"
      ],
      "execution_count": null,
      "outputs": []
    },
    {
      "cell_type": "code",
      "metadata": {
        "id": "mxDEkH15Ph85"
      },
      "source": [
        "import h5py\n",
        "import os\n",
        "datadir=\"drive/MyDrive/pM10Kb_1KTest\"\n",
        "trainfile = h5py.File(os.path.join(datadir, 'train.h5'), 'r')\n",
        "X_trainhalflife, X_trainpromoter, y_train, geneName_train = trainfile['data'], trainfile['promoter'], trainfile['label'], trainfile['geneName']\n",
        "validfile = h5py.File(os.path.join(datadir, 'valid.h5'), 'r')\n",
        "X_validhalflife, X_validpromoter, y_valid, geneName_valid = validfile['data'], validfile['promoter'], validfile['label'], validfile['geneName']\n",
        "testfile = h5py.File(os.path.join(datadir, 'test.h5'), 'r')\n",
        "X_testhalflife, X_testpromoter, y_test, geneName_test = testfile['data'], testfile['promoter'], testfile['label'], testfile['geneName']\n",
        "leftpos = 9600\n",
        "rightpos = 10400\n",
        "XTrain = X_trainpromoter[:,leftpos:rightpos,:]\n",
        "XVal = X_validpromoter[:,leftpos:rightpos,:]\n",
        "XTest = X_testpromoter[:,leftpos:rightpos,:]\n",
        "YTrain = y_train\n",
        "YVal = y_valid\n",
        "YTest = y_test"
      ],
      "execution_count": null,
      "outputs": []
    },
    {
      "cell_type": "code",
      "metadata": {
        "id": "6lSE-PgcP7FS"
      },
      "source": [
        "layer_0 = Input(shape=XTrain.shape[1:],name='Input')\n",
        "\n",
        "layer_1 = Conv1D(32,7,padding='same', kernel_initializer='glorot_normal',activation='relu',name='Conv1D_1')(layer_0)\n",
        "layer_2 = MaxPool1D(4,name='MaxPool_1')(layer_1)\n",
        "\n",
        "layer_3 = Conv1D(16,7,padding='same', kernel_initializer='glorot_normal',activation='relu',name='Conv1D_2')(layer_2)\n",
        "layer_4 = MaxPool1D(2,name='MaxPool_2')(layer_3)\n",
        "\n",
        "layer_5 = Conv1D(8,7,padding='same', kernel_initializer='glorot_normal',activation='relu',name='Conv1D_3')(layer_4)\n",
        "layer_6 = MaxPool1D(2,name='MaxPool_3')(layer_5)\n",
        "\n",
        "layer_7 = Flatten(name='Flatten_1')(layer_6)\n",
        "\n",
        "layer_8 = Dense(8,name='Dense_1')(layer_7)\n",
        "layer_9 = ReLU(name='ReLU_1')(layer_8)\n",
        "layer_10 = Dropout(0.00099,name='dropout_1')(layer_9)\n",
        "\n",
        "layer_11 = Dense(2,name='Dense_2')(layer_10)\n",
        "layer_12 = ReLU(name='ReLU_2')(layer_11)\n",
        "layer_13 = Dropout(0.00099,name='dropout_2')(layer_12)\n",
        "\n",
        "layer_14 = Dense(50*8,kernel_regularizer=tf.keras.regularizers.l1(0.0001),name='Contextual_Weight')(layer_13)\n",
        "layer_15 = Flatten(name='Flatten_2')(layer_6)\n",
        "layer_16 = Multiply(name='Multiply')([layer_14,layer_15])\n",
        "\n",
        "layer_17 = Dense(1,kernel_initializer='ones',use_bias=False,name='Sum')(layer_16)\n",
        "layer_18 = Dense(1,name='Output')(layer_17)\n",
        "model = Model(inputs=layer_0,outputs=layer_18)\n",
        "model.layers[17].trainable = False\n",
        "model.summary()\n",
        "keras.utils.plot_model(model, \"model_with_shape_info.png\", show_shapes=True)"
      ],
      "execution_count": null,
      "outputs": []
    },
    {
      "cell_type": "code",
      "metadata": {
        "id": "jGq7y0fXP-cO"
      },
      "source": [
        "model.compile(SGD(lr=0.0005, momentum=0.9),'mean_squared_error', metrics=['mean_squared_error'])\n",
        "earlystop_cb = EarlyStopping(monitor='val_loss', patience=15, verbose=1, mode='min')\n",
        "check_cb = ModelCheckpoint('bestparams.h5', monitor='val_loss', verbose=1, save_best_only=True, mode='min')\n",
        "result = model.fit(XTrain, YTrain, batch_size=128, shuffle=\"batch\", epochs=100,\n",
        "        validation_data=[XVal, YVal], callbacks=[earlystop_cb, check_cb])\n",
        "mse_history = result.history['val_mean_squared_error']"
      ],
      "execution_count": null,
      "outputs": []
    },
    {
      "cell_type": "code",
      "metadata": {
        "id": "cVd5s4AZQP4I"
      },
      "source": [
        "best_file = 'drive/MyDrive/Cell_Report_Core_CR_bestparams_3.h5'\n",
        "model = load_model(best_file)\n",
        "YTrain_Pred = model.predict(XTrain)\n",
        "print('Correlation of training dataset: '+str(np.corrcoef(YTrain[:].transpose(),YTrain_Pred.transpose())[0,1]))\n",
        "YVal_Pred = model.predict(XVal)\n",
        "print('Correlation of training dataset: '+str(np.corrcoef(YVal[:].transpose(),YVal_Pred.transpose())[0,1]))\n",
        "YTest_Pred = model.predict(XTest)\n",
        "print('Correlation of training dataset: '+str(np.corrcoef(YTest[:].transpose(),YTest_Pred.transpose())[0,1]))"
      ],
      "execution_count": null,
      "outputs": []
    }
  ]
}