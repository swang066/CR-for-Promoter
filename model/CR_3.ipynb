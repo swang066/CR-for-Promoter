{
  "nbformat": 4,
  "nbformat_minor": 0,
  "metadata": {
    "colab": {
      "name": "CR-3.ipynb",
      "provenance": [],
      "mount_file_id": "1dS4G9n0ktmJX6f6emQw09_Sw1wYmALKv",
      "authorship_tag": "ABX9TyM1DbCWJ9MnWhCnQVRsCA2O",
      "include_colab_link": true
    },
    "kernelspec": {
      "name": "python3",
      "display_name": "Python 3"
    },
    "language_info": {
      "name": "python"
    }
  },
  "cells": [
    {
      "cell_type": "markdown",
      "metadata": {
        "id": "view-in-github",
        "colab_type": "text"
      },
      "source": [
        "<a href=\"https://colab.research.google.com/github/swang066/CR-for-Promoter/blob/main/model/CR_3.ipynb\" target=\"_parent\"><img src=\"https://colab.research.google.com/assets/colab-badge.svg\" alt=\"Open In Colab\"/></a>"
      ]
    },
    {
      "cell_type": "code",
      "metadata": {
        "id": "-KN2bPviTmYJ"
      },
      "source": [
        "%tensorflow_version 1.x\n",
        "\n",
        "import numpy as np\n",
        "import pandas as pd\n",
        "import tensorflow as tf\n",
        "from sklearn.preprocessing import StandardScaler\n",
        "\n",
        "from tensorflow.keras import datasets, layers, models, Model\n",
        "import matplotlib.pyplot as plt\n",
        "\n",
        "from math import *\n",
        "from tensorflow import keras\n",
        "\n",
        "from tensorflow import keras\n",
        "from keras.models import Model, load_model\n",
        "from keras.utils.vis_utils import plot_model\n",
        "from keras.optimizers import Adam, SGD\n",
        "from keras.layers import *\n",
        "from keras.metrics import *\n",
        "from keras.callbacks import Callback, ModelCheckpoint, EarlyStopping\n",
        "from hyperopt import hp, STATUS_OK"
      ],
      "execution_count": null,
      "outputs": []
    },
    {
      "cell_type": "code",
      "metadata": {
        "id": "5a_9z2wdT2Ss"
      },
      "source": [
        "data = pd.read_csv(\"data/GSM4144998_DPRinVitro_rep1.txt\",sep='\\t')\n",
        "score = data.score.to_numpy()\n",
        "seq = data.Sequence.to_numpy()\n",
        "dict = {\n",
        "    'A': [1,0,0,0],\n",
        "    'T': [0,1,0,0],\n",
        "    'C': [0,0,1,0],\n",
        "    'G': [0,0,0,1]\n",
        "}\n",
        "X = np.zeros([len(score),19,4])\n",
        "for i in range(len(score)):\n",
        "  tmp = seq[i]\n",
        "  tmp = np.array([dict[char] for char in tmp])\n",
        "  X[i] = tmp\n",
        "scaler = StandardScaler()\n",
        "Y = scaler.fit_transform(score.reshape(-1,1)).reshape(-1)\n",
        "test_pick = pd.read_csv(\"data/test.txt\",header=None).to_numpy() - 1\n",
        "samples = pd.read_csv(\"data/samples.txt\",header=None).to_numpy() - 1\n",
        "XTest = X[test_pick.transpose()[0]]\n",
        "YTest = Y[test_pick.transpose()[0]]\n",
        "X = np.delete(X,test_pick.transpose()[0],0)\n",
        "Y = np.delete(Y,test_pick.transpose()[0],0)\n",
        "train_size = 200000\n",
        "XTrain = X[samples[range(int(train_size*0.9))].transpose()[0]]\n",
        "XVal = X[samples[range(int(train_size*0.9),train_size)].transpose()[0]]\n",
        "YTrain = Y[samples[range(int(train_size*0.9))].transpose()[0]]\n",
        "YVal = Y[samples[range(int(train_size*0.9),train_size)].transpose()[0]]"
      ],
      "execution_count": null,
      "outputs": []
    },
    {
      "cell_type": "code",
      "metadata": {
        "id": "VZuSkBq_eB-T"
      },
      "source": [
        "layer_0 = Input(shape=X.shape[1:],name='Input')\n",
        "\n",
        "layer_1 = Conv1D(32,4, kernel_initializer='glorot_normal',activation='relu',name='Conv1D_1')(layer_0)\n",
        "layer_2 = MaxPool1D(2,name='MaxPool_1')(layer_1)\n",
        "\n",
        "layer_3 = Conv1D(16,7,padding='same', kernel_initializer='glorot_normal',activation='relu',name='Conv1D_2')(layer_2)\n",
        "layer_4 = MaxPool1D(2,name='MaxPool_2')(layer_3)\n",
        "\n",
        "layer_5 = Conv1D(8,7,padding='same', kernel_initializer='glorot_normal',activation='relu',name='Conv1D_3')(layer_4)\n",
        "layer_6 = MaxPool1D(2,name='MaxPool_3')(layer_5)\n",
        "\n",
        "layer_7 = Flatten(name='Flatten_1')(layer_6)\n",
        "\n",
        "layer_8 = Dense(16,name='Dense_1')(layer_7)\n",
        "layer_9 = ReLU(name='ReLU_1')(layer_8)\n",
        "layer_10 = Dropout(0.00099,name='dropout_1')(layer_9)\n",
        "\n",
        "layer_11 = Dense(2,name='Dense_2')(layer_10)\n",
        "layer_12 = ReLU(name='ReLU_2')(layer_11)\n",
        "layer_13 = Dropout(0.00099,name='dropout_2')(layer_12)\n",
        "\n",
        "layer_14 = Dense(19*4,kernel_regularizer=tf.keras.regularizers.l1(0.0001),name='Contextual_Weight')(layer_13)\n",
        "layer_15 = Flatten(name='Flatten_2')(layer_0)\n",
        "layer_16 = Multiply(name='Multiply')([layer_14,layer_15])\n",
        "\n",
        "layer_17 = Dense(1,kernel_initializer='ones',use_bias=False,name='Sum')(layer_16)\n",
        "layer_18 = Dense(1,name='Output')(layer_17)\n",
        "model = Model(inputs=layer_0,outputs=layer_18)\n",
        "model.layers[17].trainable = False\n",
        "model.summary()\n",
        "keras.utils.plot_model(model, \"model_with_shape_info.png\", show_shapes=True)"
      ],
      "execution_count": null,
      "outputs": []
    },
    {
      "cell_type": "code",
      "metadata": {
        "id": "1pDmA--MWRCb"
      },
      "source": [
        "model.compile(SGD(lr=0.0005, momentum=0.9),'mean_squared_error', metrics=['mean_squared_error'])\n",
        "earlystop_cb = EarlyStopping(monitor='val_loss', patience=15, verbose=1, mode='min')\n",
        "check_cb = ModelCheckpoint('bestparams.h5', monitor='val_loss', verbose=1, save_best_only=True, mode='min')\n",
        "result = model.fit(XTrain, YTrain, batch_size=128, shuffle=\"batch\", epochs=100,\n",
        "        validation_data=[XVal, YVal], callbacks=[earlystop_cb, check_cb])\n",
        "mse_history = result.history['val_mean_squared_error']"
      ],
      "execution_count": null,
      "outputs": []
    },
    {
      "cell_type": "code",
      "metadata": {
        "id": "Mz8CVbRuWYDp"
      },
      "source": [
        "best_file = 'bestparams/CR-3_bestparams.h5'\n",
        "model = load_model(best_file)\n",
        "YTrain_Pred = model.predict(XTrain)\n",
        "print('Correlation of training dataset: '+str(np.corrcoef(YTrain[:].transpose(),YTrain_Pred.transpose())[0,1]))\n",
        "YVal_Pred = model.predict(XVal)\n",
        "print('Correlation of training dataset: '+str(np.corrcoef(YVal[:].transpose(),YVal_Pred.transpose())[0,1]))\n",
        "YTest_Pred = model.predict(XTest)\n",
        "print('Correlation of training dataset: '+str(np.corrcoef(YTest[:].transpose(),YTest_Pred.transpose())[0,1]))"
      ],
      "execution_count": null,
      "outputs": []
    }
  ]
}